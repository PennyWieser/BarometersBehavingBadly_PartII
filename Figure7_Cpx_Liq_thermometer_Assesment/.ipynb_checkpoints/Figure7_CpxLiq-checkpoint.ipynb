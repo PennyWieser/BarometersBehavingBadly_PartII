{
 "cells": [
  {
   "cell_type": "code",
   "execution_count": 1,
   "id": "f540083a-9952-49bf-9e4c-f4de09dc4f00",
   "metadata": {},
   "outputs": [],
   "source": [
    "import numpy as np\n",
    "import pandas as pd\n",
    "import Thermobar as pt\n",
    "import matplotlib.pyplot as plt\n",
    "import matplotlib as mpl\n",
    "from matplotlib import cm\n",
    "import warnings as w\n",
    "pd.options.display.max_columns = None"
   ]
  },
  {
   "cell_type": "code",
   "execution_count": 2,
   "id": "619bff84-e562-4964-bebb-577307799864",
   "metadata": {},
   "outputs": [],
   "source": [
    "plt.style.use(\"seaborn-colorblind\")\n",
    "plt.rcParams[\"font.family\"] = 'arial'\n",
    "plt.rcParams[\"font.size\"] =9\n",
    "plt.rcParams[\"mathtext.default\"] = \"regular\"\n",
    "plt.rcParams[\"mathtext.fontset\"] = \"dejavusans\"\n",
    "plt.rcParams['patch.linewidth'] = 1\n",
    "plt.rcParams['axes.linewidth'] = 1\n",
    "plt.rcParams[\"xtick.direction\"] = \"in\"\n",
    "plt.rcParams[\"ytick.direction\"] = \"in\"\n",
    "plt.rcParams[\"ytick.direction\"] = \"in\"\n",
    "plt.rcParams[\"xtick.major.size\"] = 6 # Sets length of ticks\n",
    "plt.rcParams[\"ytick.major.size\"] = 4 # Sets length of ticks\n",
    "plt.rcParams[\"ytick.labelsize\"] = 8.5 # Sets size of numbers on tick marks\n",
    "plt.rcParams[\"xtick.labelsize\"] = 8.5 # Sets size of numbers on tick marks\n",
    "plt.rcParams[\"axes.titlesize\"] = 11 # Overall title\n",
    "plt.rcParams[\"axes.labelsize\"] = 11 # Axes labels"
   ]
  },
  {
   "cell_type": "code",
   "execution_count": 3,
   "id": "773c6c11-d424-4f27-966e-a77e6e84b59e",
   "metadata": {},
   "outputs": [
    {
     "name": "stdout",
     "output_type": "stream",
     "text": [
      "Using Fe3FeT from input file to calculate Kd Fe-Mg\n"
     ]
    },
    {
     "name": "stderr",
     "output_type": "stream",
     "text": [
      "C:\\Users\\penny\\AppData\\Local\\Temp\\ipykernel_1256\\2281926665.py:7: UserWarning: This pattern is interpreted as a regular expression, and has match groups. To actually get the groups, use str.extract.\n",
      "  notinKeith=(cpx_Glass['Citation_x'].str.contains('Mercer, C.N., and Johnston, A.D. (2008)'))|(cpx_Glass['Citation_x'].str.contains('Alonso-Perez, R., Müntener, O., and Ulmer, P. (2009)'))\n",
      "C:\\Users\\penny\\anaconda3\\lib\\site-packages\\pandas\\core\\indexing.py:2120: FutureWarning: In a future version, the Index constructor will not infer numeric dtypes when passed object-dtype sequences (matching Series behavior)\n",
      "  new_ix = Index(new_ix)\n"
     ]
    }
   ],
   "source": [
    "out=pt.import_excel(r'../ArcPL_Dec2022.xlsx', sheet_name='Cpx-Liq')\n",
    "myCpxs1=out['Cpxs']\n",
    "myLiquids1=out['Liqs']\n",
    "cpx_Glass=out['my_input']\n",
    "Cpx_Glass=cpx_Glass\n",
    "notinLEPR= cpx_Glass['Citation_x'].str.contains('notinLEPR')\n",
    "notinKeith=(cpx_Glass['Citation_x'].str.contains('Mercer, C.N., and Johnston, A.D. (2008)'))|(cpx_Glass['Citation_x'].str.contains('Alonso-Perez, R., Müntener, O., and Ulmer, P. (2009)'))\n",
    "newMask=notinLEPR|notinKeith\n",
    "OldMask=~newMask\n",
    "newMask=newMask.fillna(False)\n",
    "\n",
    "mask_1GPa=cpx_Glass['P_kbar_x']<17\n",
    "mask_1GPa=mask_1GPa.fillna(False)\n",
    "\n",
    "Press_new=mask_1GPa&newMask\n",
    "Press_new=Press_new.fillna(False)\n",
    "\n",
    "eq_tests=pt.calculate_cpx_liq_eq_tests(liq_comps=myLiquids1, cpx_comps=myCpxs1, P=cpx_Glass['P_kbar_x'], T=cpx_Glass['T_K_x'])\n",
    "\n",
    "sigma=1.5\n",
    "Eq_Mask=((eq_tests['Delta_EnFs_Mollo13']<0.05)\n",
    "        &(eq_tests['Delta_Kd_Put2008']<0.08) \n",
    "        &(eq_tests['Cation_Sum_Cpx'].between(3.95, 4.05))\n",
    "         &(cpx_Glass['N_meas_Cpx']>=5)\n",
    "         & (cpx_Glass['H2O_Liq']>0)\n",
    "        \n",
    "        )\n",
    "\n",
    "xT=cpx_Glass['T_K_x'].loc[Press_new&Eq_Mask]\n",
    "x=cpx_Glass['P_kbar_x'].loc[Press_new&Eq_Mask]\n",
    "x_All=cpx_Glass['P_kbar_x'].loc[Press_new]\n",
    "xT_All=cpx_Glass['T_K_x'].loc[Press_new]\n",
    "\n",
    "## Masked Cpxs and Glasses\n",
    "x_T_Mask=cpx_Glass['T_K_x'].loc[Press_new&Eq_Mask].reset_index(drop=True)\n",
    "x_P_kbar_Mask=cpx_Glass['P_kbar_x'].loc[Press_new&Eq_Mask].reset_index(drop=True)\n",
    "\n",
    "Cpx_Mask=myCpxs1.loc[Press_new&Eq_Mask].reset_index(drop=True)\n",
    "Liq_Mask=myLiquids1.loc[Press_new&Eq_Mask].reset_index(drop=True)\n",
    "cpx_Glass_Mask=cpx_Glass.loc[Press_new&Eq_Mask].reset_index(drop=True)"
   ]
  },
  {
   "cell_type": "code",
   "execution_count": null,
   "id": "598af6f3-5762-46b2-aaed-7fab23e5ab9f",
   "metadata": {},
   "outputs": [],
   "source": [
    "print('initial number of experiments')\n",
    "sum(Press_new)"
   ]
  }
 ],
 "metadata": {
  "kernelspec": {
   "display_name": "Python 3 (ipykernel)",
   "language": "python",
   "name": "python3"
  },
  "language_info": {
   "codemirror_mode": {
    "name": "ipython",
    "version": 3
   },
   "file_extension": ".py",
   "mimetype": "text/x-python",
   "name": "python",
   "nbconvert_exporter": "python",
   "pygments_lexer": "ipython3",
   "version": "3.9.13"
  }
 },
 "nbformat": 4,
 "nbformat_minor": 5
}
