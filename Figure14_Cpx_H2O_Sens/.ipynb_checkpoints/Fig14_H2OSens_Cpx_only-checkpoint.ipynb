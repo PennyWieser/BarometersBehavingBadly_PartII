{
 "cells": [
  {
   "cell_type": "code",
   "execution_count": 1,
   "id": "f9ec65cf-8813-436b-914b-949b86335200",
   "metadata": {},
   "outputs": [],
   "source": [
    "import numpy as np\n",
    "import pandas as pd\n",
    "import Thermobar as pt\n",
    "import matplotlib.pyplot as plt\n",
    "import matplotlib as mpl\n",
    "from matplotlib import cm\n",
    "import warnings as w\n",
    "pd.options.display.max_columns = None"
   ]
  },
  {
   "cell_type": "code",
   "execution_count": 2,
   "id": "5a1c61e8-1e83-4a10-b5c4-da94b57431cc",
   "metadata": {},
   "outputs": [],
   "source": [
    "plt.style.use(\"seaborn-colorblind\")\n",
    "plt.rcParams[\"font.family\"] = 'arial'\n",
    "plt.rcParams[\"font.size\"] =9\n",
    "plt.rcParams[\"mathtext.default\"] = \"regular\"\n",
    "plt.rcParams[\"mathtext.fontset\"] = \"dejavusans\"\n",
    "plt.rcParams['patch.linewidth'] = 1\n",
    "plt.rcParams['axes.linewidth'] = 1\n",
    "plt.rcParams[\"xtick.direction\"] = \"in\"\n",
    "plt.rcParams[\"ytick.direction\"] = \"in\"\n",
    "plt.rcParams[\"ytick.direction\"] = \"in\"\n",
    "plt.rcParams[\"xtick.major.size\"] = 6 # Sets length of ticks\n",
    "plt.rcParams[\"ytick.major.size\"] = 4 # Sets length of ticks\n",
    "plt.rcParams[\"ytick.labelsize\"] = 8.5 # Sets size of numbers on tick marks\n",
    "plt.rcParams[\"xtick.labelsize\"] = 8.5 # Sets size of numbers on tick marks\n",
    "plt.rcParams[\"axes.titlesize\"] = 11 # Overall title\n",
    "plt.rcParams[\"axes.labelsize\"] = 11 # Axes labels"
   ]
  },
  {
   "cell_type": "code",
   "execution_count": 3,
   "id": "c37efc38-b852-42dc-8600-388396cb1c19",
   "metadata": {},
   "outputs": [
    {
     "name": "stderr",
     "output_type": "stream",
     "text": [
      "C:\\Users\\penny\\AppData\\Local\\Temp\\ipykernel_27560\\386116709.py:7: UserWarning: This pattern is interpreted as a regular expression, and has match groups. To actually get the groups, use str.extract.\n",
      "  notinKeith=(cpx_Glass['Citation_x'].str.contains('Mercer, C.N., and Johnston, A.D. (2008)'))|(cpx_Glass['Citation_x'].str.contains('Alonso-Perez, R., Müntener, O., and Ulmer, P. (2009)'))\n"
     ]
    }
   ],
   "source": [
    "out=pt.import_excel(r'../LEPR_Wet_Stitched_April2023_Norm100Anhydrs.xlsx', sheet_name='Cpx-Liq')\n",
    "myCpxs1=out['Cpxs']\n",
    "myLiquids1=out['Liqs']\n",
    "cpx_Glass=out['my_input']\n",
    "Cpx_Glass=cpx_Glass\n",
    "notinLEPR= cpx_Glass['Citation_x'].str.contains('notinLEPR')\n",
    "notinKeith=(cpx_Glass['Citation_x'].str.contains('Mercer, C.N., and Johnston, A.D. (2008)'))|(cpx_Glass['Citation_x'].str.contains('Alonso-Perez, R., Müntener, O., and Ulmer, P. (2009)'))\n",
    "newMask=notinLEPR|notinKeith\n",
    "OldMask=(~newMask)&(cpx_Glass['P_kbar_x']<17)\n",
    "newMask=newMask.fillna(False)\n",
    "\n",
    "mask_1GPa=cpx_Glass['P_kbar_x']<17\n",
    "mask_1GPa=mask_1GPa.fillna(False)\n",
    "\n",
    "Press_new=mask_1GPa&newMask\n",
    "Press_new=Press_new.fillna(False)\n"
   ]
  },
  {
   "cell_type": "code",
   "execution_count": 4,
   "id": "157c9bee-be00-42fb-972b-7acbb4bee2ca",
   "metadata": {},
   "outputs": [
    {
     "data": {
      "text/plain": [
       "array([367, 373, 378, 382, 400, 415, 423, 440, 443, 452, 479, 486, 490,\n",
       "       492, 495, 497, 510, 534, 546, 557, 563, 580, 593, 603, 628, 646,\n",
       "       654, 657, 667, 667, 667, 672, 680, 698, 703, 705, 716, 728, 763,\n",
       "       772, 785, 803, 818, 845, 845, 848, 852, 870, 870, 880], dtype=int64)"
      ]
     },
     "execution_count": 4,
     "metadata": {},
     "output_type": "execute_result"
    }
   ],
   "source": [
    "rand_choice=cpx_Glass.loc[Press_new&(Cpx_Glass['H2O_Liq']>0)].index.values\n",
    "choose=np.random.choice(rand_choice, 50)\n",
    "np.sort(choose)"
   ]
  },
  {
   "cell_type": "code",
   "execution_count": 5,
   "id": "1c9c7f30-3969-45c9-a3b2-4fd25b4fb685",
   "metadata": {},
   "outputs": [],
   "source": [
    "Filt2=[392, 398, 434, 450, 457, 468, 486, 488, 489, 502, 520, 526, 548, 561,\n",
    "       564, 572, 599, 601, 603, 606, 611, 636, 637, 642, 645, 646,\n",
    "       648, 649, 660, 673, 679, 689, 696, 730, 735, 739, 755, 793, 795,\n",
    "       799, 805, 806, 819, 825, 826, 831, 844, 879, 885,  888]"
   ]
  },
  {
   "cell_type": "code",
   "execution_count": 6,
   "id": "4cbcfdc2-04c8-4ce0-929b-2b96b1b51a45",
   "metadata": {},
   "outputs": [],
   "source": [
    "# pasted results from cell 4 for consistency\n",
    "Filt=[392, 398, 434, 450, 457, 468, 486, 488, 489, 502, 520, 526, 548, 561,\n",
    "       564, 572, 599, 603,  611, 636, 637,  645, \n",
    "        660, 673, 679, 689, 696, 730, 739, 755, 793, 795,\n",
    "       799, 805, 806,  825, 826, 831, 844, 879,  888]"
   ]
  },
  {
   "cell_type": "code",
   "execution_count": 7,
   "id": "9540a240-f506-4f9d-a153-7f9d9941f281",
   "metadata": {},
   "outputs": [
    {
     "data": {
      "text/plain": [
       "41"
      ]
     },
     "execution_count": 7,
     "metadata": {},
     "output_type": "execute_result"
    }
   ],
   "source": [
    "len(Filt)"
   ]
  },
  {
   "cell_type": "code",
   "execution_count": 8,
   "id": "1f9614c4-3418-4efc-a858-cd00ab62b371",
   "metadata": {},
   "outputs": [
    {
     "data": {
      "text/plain": [
       "(-100.0, 100.0)"
      ]
     },
     "execution_count": 8,
     "metadata": {},
     "output_type": "execute_result"
    },
    {
     "data": {
      "image/png": "[encoded data removed]",
      "text/plain": [
       "<Figure size 640x480 with 1 Axes>"
      ]
     },
     "metadata": {},
     "output_type": "display_data"
    }
   ],
   "source": [
    "plt.plot(Filt, Cpx_Glass['H2O_Liq'].loc[Filt], '.k')\n",
    "plt.ylim([-100, 100])"
   ]
  },
  {
   "cell_type": "code",
   "execution_count": 9,
   "id": "02a1865b-a970-4353-ae2e-b70cf857e26d",
   "metadata": {},
   "outputs": [],
   "source": [
    "myLiquids_Filt=myLiquids1.loc[Filt].reset_index(drop=True)\n",
    "myCpxs_Filt=myCpxs1.loc[Filt].reset_index(drop=True)\n",
    "Cpx_Glass_Filt=Cpx_Glass.loc[Filt].reset_index(drop=True)"
   ]
  },
  {
   "cell_type": "code",
   "execution_count": null,
   "id": "b435c163-adff-4474-b20e-f7088cd831c7",
   "metadata": {},
   "outputs": [],
   "source": [
    "delta_H_lin=np.linspace(-3, 3, 30)\n",
    "\n",
    "T_HSens_eq32d_32b=np.empty([len(delta_H_lin), \n",
    "                    len(myLiquids_Filt)], dtype=float)\n",
    "T_Wang=np.empty([len(delta_H_lin), \n",
    "                    len(myLiquids_Filt)], dtype=float)\n",
    "P_HSens_eq32d_32b=np.empty([len(delta_H_lin), \n",
    "                    len(myLiquids_Filt)], dtype=float)\n",
    "\n",
    "\n",
    "for i in range(0, len(delta_H_lin)):\n",
    "    import warnings as w\n",
    "    with w.catch_warnings():\n",
    "        w.simplefilter('ignore')\n",
    "        T_Wang[i]=pt.calculate_cpx_only_temp(\n",
    "        cpx_comps=myCpxs_Filt,\n",
    "        H2O_Liq=Cpx_Glass_Filt['H2O_Liq']+delta_H_lin[i],\n",
    "                    equationT='T_Wang2021_eq2')\n",
    "        \n",
    "        T_HSens_eq32d_32b[i]=pt.calculate_cpx_only_press_temp(\n",
    "        cpx_comps=myCpxs_Filt,\n",
    "        H2O_Liq=Cpx_Glass_Filt['H2O_Liq']+delta_H_lin[i],\n",
    "                    equationT='T_Put2008_eq32d',\n",
    "                     equationP='P_Put2008_eq32b').T_K_calc\n",
    "        \n",
    "        P_HSens_eq32d_32b[i]=pt.calculate_cpx_only_press_temp(\n",
    "        cpx_comps=myCpxs_Filt,\n",
    "        H2O_Liq=Cpx_Glass_Filt['H2O_Liq']+delta_H_lin[i],\n",
    "                    equationT='T_Put2008_eq32d',\n",
    "                     equationP='P_Put2008_eq32b').P_kbar_calc\n",
    "        \n",
    "\n",
    "Exp_T_Wang=pt.calculate_cpx_only_temp(\n",
    "        cpx_comps=myCpxs_Filt,\n",
    "        H2O_Liq=Cpx_Glass_Filt['H2O_Liq'],\n",
    "                    equationT='T_Wang2021_eq2')        \n",
    "Exp_T_HSens_eq32d_32b=pt.calculate_cpx_only_press_temp(\n",
    "        cpx_comps=myCpxs_Filt,\n",
    "        H2O_Liq=Cpx_Glass_Filt['H2O_Liq'],\n",
    "                    equationT='T_Put2008_eq32d',\n",
    "                     equationP='P_Put2008_eq32b').T_K_calc\n",
    "\n",
    "Exp_P_HSens_eq32d_32b=pt.calculate_cpx_only_press_temp(\n",
    "        cpx_comps=myCpxs_Filt,\n",
    "        H2O_Liq=Cpx_Glass_Filt['H2O_Liq'],\n",
    "                    equationT='T_Put2008_eq32d',\n",
    "                     equationP='P_Put2008_eq32b').P_kbar_calc\n"
   ]
  },
  {
   "cell_type": "code",
   "execution_count": null,
   "id": "d13e3171-6f25-4da8-bb6a-099f9e5f7ad7",
   "metadata": {},
   "outputs": [],
   "source": [
    "fig, ((ax0, ax1)) = plt.subplots(1,2, \n",
    "                                figsize = (7.5,3)) # adjust dimensions \n",
    "\n",
    "for i in range(0, np.shape(T_Wang)[1]):\n",
    "        #plt.plot(H_lin, H_31[:, i]-H_31[0, i], '.k', label=\"Iterating P and T\", alpha=0.3)\n",
    "    b=1\n",
    "    liqs=myLiquids1['H2O_Liq'].loc[Filt]\n",
    "    ax0.plot(delta_H_lin+liqs.iloc[i], T_Wang[:, i]\n",
    "             -Exp_T_Wang[i],\n",
    "             '-', color='blue', alpha=0.7, lw=1)\n",
    "\n",
    "    ax0.plot(delta_H_lin+liqs.iloc[i], T_HSens_eq32d_32b[:, i]-Exp_T_HSens_eq32d_32b[i],\n",
    "             '-', color='red', alpha=0.7, lw=1)\n",
    "\n",
    "    \n",
    "    ax1.plot(delta_H_lin+liqs.iloc[i], P_HSens_eq32d_32b[:, i]-Exp_P_HSens_eq32d_32b[i],\n",
    "             '-', color='red', alpha=0.7, lw=1)    \n",
    "      \n",
    "ax0.plot(Cpx_Glass['H2O_Liq'].loc[Filt],\n",
    "         Cpx_Glass['H2O_Liq'].loc[Filt]*0,\n",
    "    'ok', mfc='white', ms=3)\n",
    "\n",
    "ax1.plot(Cpx_Glass['H2O_Liq'].loc[Filt],\n",
    "         Cpx_Glass['H2O_Liq'].loc[Filt]*0,\n",
    "    'ok', mfc='white', ms=3) \n",
    "\n",
    "ax0.set_ylabel('Calc T$_{H_{2}O \\,\\,\\,\\, Pert}$ - Calc T$_{H_{2}O \\,\\,\\,\\, Meas}$')\n",
    "ax1.set_ylabel('Calc P$_{H_{2}O \\,\\,\\,\\, Pert}$ - Calc P$_{H_{2}O \\,\\,\\,\\, Meas}$')\n",
    "\n",
    "\n",
    "ax0.set_xlim([0, 14])\n",
    "ax1.set_xlim([0, 14])\n",
    "\n",
    "\n",
    "ax1.yaxis.set_tick_params(which='both', labelbottom=True)\n",
    "ax0.set_xlabel('H$_2$O Liq (wt%)')\n",
    "ax1.set_xlabel('H$_2$O Liq (wt%)')\n",
    "ax0.set_ylim([-80, 90])\n",
    "ax1.set_ylim([-2.5, 3])\n",
    "fig.savefig('Cpx_only_H2O_Sens.png', dpi=300)"
   ]
  },
  {
   "cell_type": "code",
   "execution_count": null,
   "id": "2f324e82-cfbb-43f9-8564-8095736384b9",
   "metadata": {},
   "outputs": [],
   "source": [
    "len(delta_H_lin)"
   ]
  },
  {
   "cell_type": "markdown",
   "id": "70fffc62-7d68-4448-8d95-14d3efc9e4a6",
   "metadata": {},
   "source": [
    "## Working out range and average"
   ]
  },
  {
   "cell_type": "code",
   "execution_count": null,
   "id": "0b877b95-4e02-456f-ab07-d8ab5fb61fbf",
   "metadata": {},
   "outputs": [],
   "source": [
    "MaxH2OT_Petrelli2020=T_HSens_eq32d_32b[-1, :]\n",
    "MinH2OT_Petrelli2020=T_HSens_eq32d_32b[0, :]\n",
    "Diff_Petrelli2020=MaxH2OT_Petrelli2020-MinH2OT_Petrelli2020\n",
    "\n",
    "print(np.min(Diff_Petrelli2020)/6)\n",
    "print(np.max(Diff_Petrelli2020)/6)\n",
    "print(np.mean(Diff_Petrelli2020)/6)"
   ]
  },
  {
   "cell_type": "code",
   "execution_count": null,
   "id": "f624b323-3f81-4c81-a9de-cc24b8dd9536",
   "metadata": {},
   "outputs": [],
   "source": [
    "MaxH2OT_Petrelli2020=T_Wang[-1, :]\n",
    "MinH2OT_Petrelli2020=T_Wang[0, :]\n",
    "Diff_Petrelli2020=MaxH2OT_Petrelli2020-MinH2OT_Petrelli2020\n",
    "\n",
    "print(np.min(Diff_Petrelli2020)/6)\n",
    "print(np.max(Diff_Petrelli2020)/6)\n",
    "print(np.mean(Diff_Petrelli2020)/6)"
   ]
  },
  {
   "cell_type": "code",
   "execution_count": null,
   "id": "1d76659a-e691-4af8-a176-9049794ce35a",
   "metadata": {},
   "outputs": [],
   "source": [
    "MaxH2OT_Petrelli2020=P_HSens_eq32d_32b[-1, :]\n",
    "MinH2OT_Petrelli2020=P_HSens_eq32d_32b[0, :]\n",
    "Diff_Petrelli2020=MaxH2OT_Petrelli2020-MinH2OT_Petrelli2020\n",
    "\n",
    "print(np.min(Diff_Petrelli2020)/6)\n",
    "print(np.max(Diff_Petrelli2020)/6)\n",
    "print(np.mean(Diff_Petrelli2020)/6)"
   ]
  },
  {
   "cell_type": "code",
   "execution_count": null,
   "id": "fc8d70dc-d27c-4e36-9ec5-32631c1ebe09",
   "metadata": {},
   "outputs": [],
   "source": []
  },
  {
   "cell_type": "code",
   "execution_count": null,
   "id": "701025f8-ffce-441b-9675-ad29d9728384",
   "metadata": {},
   "outputs": [],
   "source": []
  },
  {
   "cell_type": "code",
   "execution_count": null,
   "id": "e7dfb400-b3a8-4fe5-a37c-290fe672bb9e",
   "metadata": {},
   "outputs": [],
   "source": []
  }
 ],
 "metadata": {
  "kernelspec": {
   "display_name": "Python 3 (ipykernel)",
   "language": "python",
   "name": "python3"
  },
  "language_info": {
   "codemirror_mode": {
    "name": "ipython",
    "version": 3
   },
   "file_extension": ".py",
   "mimetype": "text/x-python",
   "name": "python",
   "nbconvert_exporter": "python",
   "pygments_lexer": "ipython3",
   "version": "3.9.13"
  }
 },
 "nbformat": 4,
 "nbformat_minor": 5
}
